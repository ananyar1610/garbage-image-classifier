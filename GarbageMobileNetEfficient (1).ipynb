{
  "cells": [
    {
      "cell_type": "code",
      "execution_count": 1,
      "metadata": {
        "id": "gb6jhfodOpzj",
        "colab": {
          "base_uri": "https://localhost:8080/"
        },
        "outputId": "ffded81e-49c7-416d-f228-09be34934e42"
      },
      "outputs": [
        {
          "output_type": "stream",
          "name": "stdout",
          "text": [
            "2.19.0\n"
          ]
        }
      ],
      "source": [
        "import tensorflow as tf\n",
        "print(tf.__version__)\n"
      ]
    },
    {
      "cell_type": "code",
      "execution_count": 2,
      "metadata": {
        "id": "Ukr96KvykClA"
      },
      "outputs": [],
      "source": [
        "import tensorflow as tf\n",
        "from tensorflow.keras import layers, models,datasets\n",
        "import matplotlib.pyplot as plt\n",
        "from torchvision.datasets import ImageFolder\n",
        "import numpy as np\n",
        "from tensorflow.keras.preprocessing.image import ImageDataGenerator\n",
        "from tensorflow.keras.applications import MobileNetV2, EfficientNetB0\n",
        "from tensorflow.keras.models import Model\n",
        "from tensorflow.keras.layers import GlobalAveragePooling2D, Dense, Dropout, Input\n",
        "from tensorflow.keras.optimizers import Adam\n",
        "from tensorflow.keras.callbacks import EarlyStopping, ModelCheckpoint"
      ]
    },
    {
      "cell_type": "code",
      "execution_count": 4,
      "metadata": {
        "colab": {
          "base_uri": "https://localhost:8080/"
        },
        "id": "I7zLd9QjjNzy",
        "outputId": "213198d4-026c-496c-e7ad-591e9365d733"
      },
      "outputs": [
        {
          "output_type": "stream",
          "name": "stdout",
          "text": [
            "Mounted at /content/drive\n"
          ]
        }
      ],
      "source": [
        "from google.colab import drive\n",
        "drive.mount('/content/drive')"
      ]
    },
    {
      "cell_type": "code",
      "execution_count": 5,
      "metadata": {
        "id": "CbRvkJdajk2m"
      },
      "outputs": [],
      "source": [
        "import os\n",
        "dataset_path='/content/drive/MyDrive/garbage-dataset'"
      ]
    },
    {
      "cell_type": "code",
      "execution_count": 6,
      "metadata": {
        "colab": {
          "base_uri": "https://localhost:8080/"
        },
        "id": "vsW4LTRSKVqX",
        "outputId": "7e01fc52-a98e-40c0-e973-3f36377f857a"
      },
      "outputs": [
        {
          "output_type": "stream",
          "name": "stdout",
          "text": [
            "Found 15627 images belonging to 10 classes.\n",
            "Found 3902 images belonging to 10 classes.\n"
          ]
        }
      ],
      "source": [
        "image_size = 224\n",
        "batch_size = 32\n",
        "dataset_path = '/content/drive/MyDrive/garbage-dataset'\n",
        "\n",
        "# Data augmentation\n",
        "train_datagen = ImageDataGenerator(\n",
        "    rescale=1./255,\n",
        "    validation_split=0.2,\n",
        "    horizontal_flip=True,\n",
        "    rotation_range=15,\n",
        "    zoom_range=0.1\n",
        ")\n",
        "\n",
        "# Data loaders\n",
        "train_generator = train_datagen.flow_from_directory(\n",
        "    dataset_path,\n",
        "    target_size=(image_size, image_size),\n",
        "    batch_size=batch_size,\n",
        "    class_mode='categorical',\n",
        "    subset='training'\n",
        ")\n",
        "\n",
        "val_generator = train_datagen.flow_from_directory(\n",
        "    dataset_path,\n",
        "    target_size=(image_size, image_size),\n",
        "    batch_size=batch_size,\n",
        "    class_mode='categorical',\n",
        "    subset='validation'\n",
        ")"
      ]
    },
    {
      "cell_type": "code",
      "source": [
        "print(train_generator.class_indices)\n"
      ],
      "metadata": {
        "colab": {
          "base_uri": "https://localhost:8080/"
        },
        "id": "PRkhG585y7kK",
        "outputId": "61363537-9f9c-4ec9-8649-60a3df1e5bfa"
      },
      "execution_count": 21,
      "outputs": [
        {
          "output_type": "stream",
          "name": "stdout",
          "text": [
            "{'battery': 0, 'biological': 1, 'cardboard': 2, 'clothes': 3, 'glass': 4, 'metal': 5, 'paper': 6, 'plastic': 7, 'shoes': 8, 'trash': 9}\n"
          ]
        }
      ]
    },
    {
      "cell_type": "code",
      "execution_count": 7,
      "metadata": {
        "colab": {
          "base_uri": "https://localhost:8080/",
          "height": 357
        },
        "id": "j2rynAeXLhoQ",
        "outputId": "6913e434-20f9-4c1d-d205-3a2335e2ba88"
      },
      "outputs": [
        {
          "output_type": "stream",
          "name": "stdout",
          "text": [
            "Downloading data from https://storage.googleapis.com/tensorflow/keras-applications/mobilenet_v2/mobilenet_v2_weights_tf_dim_ordering_tf_kernels_1.0_224_no_top.h5\n",
            "\u001b[1m9406464/9406464\u001b[0m \u001b[32m━━━━━━━━━━━━━━━━━━━━\u001b[0m\u001b[37m\u001b[0m \u001b[1m0s\u001b[0m 0us/step\n"
          ]
        },
        {
          "output_type": "display_data",
          "data": {
            "text/plain": [
              "\u001b[1mModel: \"functional\"\u001b[0m\n"
            ],
            "text/html": [
              "<pre style=\"white-space:pre;overflow-x:auto;line-height:normal;font-family:Menlo,'DejaVu Sans Mono',consolas,'Courier New',monospace\"><span style=\"font-weight: bold\">Model: \"functional\"</span>\n",
              "</pre>\n"
            ]
          },
          "metadata": {}
        },
        {
          "output_type": "display_data",
          "data": {
            "text/plain": [
              "┏━━━━━━━━━━━━━━━━━━━━━━━━━━━━━━━━━┳━━━━━━━━━━━━━━━━━━━━━━━━┳━━━━━━━━━━━━━━━┓\n",
              "┃\u001b[1m \u001b[0m\u001b[1mLayer (type)                   \u001b[0m\u001b[1m \u001b[0m┃\u001b[1m \u001b[0m\u001b[1mOutput Shape          \u001b[0m\u001b[1m \u001b[0m┃\u001b[1m \u001b[0m\u001b[1m      Param #\u001b[0m\u001b[1m \u001b[0m┃\n",
              "┡━━━━━━━━━━━━━━━━━━━━━━━━━━━━━━━━━╇━━━━━━━━━━━━━━━━━━━━━━━━╇━━━━━━━━━━━━━━━┩\n",
              "│ input_layer_1 (\u001b[38;5;33mInputLayer\u001b[0m)      │ (\u001b[38;5;45mNone\u001b[0m, \u001b[38;5;34m224\u001b[0m, \u001b[38;5;34m224\u001b[0m, \u001b[38;5;34m3\u001b[0m)    │             \u001b[38;5;34m0\u001b[0m │\n",
              "├─────────────────────────────────┼────────────────────────┼───────────────┤\n",
              "│ mobilenetv2_1.00_224            │ (\u001b[38;5;45mNone\u001b[0m, \u001b[38;5;34m7\u001b[0m, \u001b[38;5;34m7\u001b[0m, \u001b[38;5;34m1280\u001b[0m)     │     \u001b[38;5;34m2,257,984\u001b[0m │\n",
              "│ (\u001b[38;5;33mFunctional\u001b[0m)                    │                        │               │\n",
              "├─────────────────────────────────┼────────────────────────┼───────────────┤\n",
              "│ global_average_pooling2d        │ (\u001b[38;5;45mNone\u001b[0m, \u001b[38;5;34m1280\u001b[0m)           │             \u001b[38;5;34m0\u001b[0m │\n",
              "│ (\u001b[38;5;33mGlobalAveragePooling2D\u001b[0m)        │                        │               │\n",
              "├─────────────────────────────────┼────────────────────────┼───────────────┤\n",
              "│ dropout (\u001b[38;5;33mDropout\u001b[0m)               │ (\u001b[38;5;45mNone\u001b[0m, \u001b[38;5;34m1280\u001b[0m)           │             \u001b[38;5;34m0\u001b[0m │\n",
              "├─────────────────────────────────┼────────────────────────┼───────────────┤\n",
              "│ dense (\u001b[38;5;33mDense\u001b[0m)                   │ (\u001b[38;5;45mNone\u001b[0m, \u001b[38;5;34m10\u001b[0m)             │        \u001b[38;5;34m12,810\u001b[0m │\n",
              "└─────────────────────────────────┴────────────────────────┴───────────────┘\n"
            ],
            "text/html": [
              "<pre style=\"white-space:pre;overflow-x:auto;line-height:normal;font-family:Menlo,'DejaVu Sans Mono',consolas,'Courier New',monospace\">┏━━━━━━━━━━━━━━━━━━━━━━━━━━━━━━━━━┳━━━━━━━━━━━━━━━━━━━━━━━━┳━━━━━━━━━━━━━━━┓\n",
              "┃<span style=\"font-weight: bold\"> Layer (type)                    </span>┃<span style=\"font-weight: bold\"> Output Shape           </span>┃<span style=\"font-weight: bold\">       Param # </span>┃\n",
              "┡━━━━━━━━━━━━━━━━━━━━━━━━━━━━━━━━━╇━━━━━━━━━━━━━━━━━━━━━━━━╇━━━━━━━━━━━━━━━┩\n",
              "│ input_layer_1 (<span style=\"color: #0087ff; text-decoration-color: #0087ff\">InputLayer</span>)      │ (<span style=\"color: #00d7ff; text-decoration-color: #00d7ff\">None</span>, <span style=\"color: #00af00; text-decoration-color: #00af00\">224</span>, <span style=\"color: #00af00; text-decoration-color: #00af00\">224</span>, <span style=\"color: #00af00; text-decoration-color: #00af00\">3</span>)    │             <span style=\"color: #00af00; text-decoration-color: #00af00\">0</span> │\n",
              "├─────────────────────────────────┼────────────────────────┼───────────────┤\n",
              "│ mobilenetv2_1.00_224            │ (<span style=\"color: #00d7ff; text-decoration-color: #00d7ff\">None</span>, <span style=\"color: #00af00; text-decoration-color: #00af00\">7</span>, <span style=\"color: #00af00; text-decoration-color: #00af00\">7</span>, <span style=\"color: #00af00; text-decoration-color: #00af00\">1280</span>)     │     <span style=\"color: #00af00; text-decoration-color: #00af00\">2,257,984</span> │\n",
              "│ (<span style=\"color: #0087ff; text-decoration-color: #0087ff\">Functional</span>)                    │                        │               │\n",
              "├─────────────────────────────────┼────────────────────────┼───────────────┤\n",
              "│ global_average_pooling2d        │ (<span style=\"color: #00d7ff; text-decoration-color: #00d7ff\">None</span>, <span style=\"color: #00af00; text-decoration-color: #00af00\">1280</span>)           │             <span style=\"color: #00af00; text-decoration-color: #00af00\">0</span> │\n",
              "│ (<span style=\"color: #0087ff; text-decoration-color: #0087ff\">GlobalAveragePooling2D</span>)        │                        │               │\n",
              "├─────────────────────────────────┼────────────────────────┼───────────────┤\n",
              "│ dropout (<span style=\"color: #0087ff; text-decoration-color: #0087ff\">Dropout</span>)               │ (<span style=\"color: #00d7ff; text-decoration-color: #00d7ff\">None</span>, <span style=\"color: #00af00; text-decoration-color: #00af00\">1280</span>)           │             <span style=\"color: #00af00; text-decoration-color: #00af00\">0</span> │\n",
              "├─────────────────────────────────┼────────────────────────┼───────────────┤\n",
              "│ dense (<span style=\"color: #0087ff; text-decoration-color: #0087ff\">Dense</span>)                   │ (<span style=\"color: #00d7ff; text-decoration-color: #00d7ff\">None</span>, <span style=\"color: #00af00; text-decoration-color: #00af00\">10</span>)             │        <span style=\"color: #00af00; text-decoration-color: #00af00\">12,810</span> │\n",
              "└─────────────────────────────────┴────────────────────────┴───────────────┘\n",
              "</pre>\n"
            ]
          },
          "metadata": {}
        },
        {
          "output_type": "display_data",
          "data": {
            "text/plain": [
              "\u001b[1m Total params: \u001b[0m\u001b[38;5;34m2,270,794\u001b[0m (8.66 MB)\n"
            ],
            "text/html": [
              "<pre style=\"white-space:pre;overflow-x:auto;line-height:normal;font-family:Menlo,'DejaVu Sans Mono',consolas,'Courier New',monospace\"><span style=\"font-weight: bold\"> Total params: </span><span style=\"color: #00af00; text-decoration-color: #00af00\">2,270,794</span> (8.66 MB)\n",
              "</pre>\n"
            ]
          },
          "metadata": {}
        },
        {
          "output_type": "display_data",
          "data": {
            "text/plain": [
              "\u001b[1m Trainable params: \u001b[0m\u001b[38;5;34m12,810\u001b[0m (50.04 KB)\n"
            ],
            "text/html": [
              "<pre style=\"white-space:pre;overflow-x:auto;line-height:normal;font-family:Menlo,'DejaVu Sans Mono',consolas,'Courier New',monospace\"><span style=\"font-weight: bold\"> Trainable params: </span><span style=\"color: #00af00; text-decoration-color: #00af00\">12,810</span> (50.04 KB)\n",
              "</pre>\n"
            ]
          },
          "metadata": {}
        },
        {
          "output_type": "display_data",
          "data": {
            "text/plain": [
              "\u001b[1m Non-trainable params: \u001b[0m\u001b[38;5;34m2,257,984\u001b[0m (8.61 MB)\n"
            ],
            "text/html": [
              "<pre style=\"white-space:pre;overflow-x:auto;line-height:normal;font-family:Menlo,'DejaVu Sans Mono',consolas,'Courier New',monospace\"><span style=\"font-weight: bold\"> Non-trainable params: </span><span style=\"color: #00af00; text-decoration-color: #00af00\">2,257,984</span> (8.61 MB)\n",
              "</pre>\n"
            ]
          },
          "metadata": {}
        }
      ],
      "source": [
        "def build_mobilenetv2_model(num_classes):\n",
        "    base_model = MobileNetV2(weights='imagenet', include_top=False, input_shape=(image_size, image_size, 3))\n",
        "    base_model.trainable = False\n",
        "\n",
        "    inputs = Input(shape=(image_size, image_size, 3))\n",
        "    x = base_model(inputs, training=False)\n",
        "    x = GlobalAveragePooling2D()(x)\n",
        "    x = Dropout(0.3)(x)\n",
        "    outputs = Dense(num_classes, activation='softmax')(x)\n",
        "\n",
        "    model = Model(inputs, outputs)\n",
        "    return model\n",
        "\n",
        "mobilenet_model = build_mobilenetv2_model(num_classes=train_generator.num_classes)\n",
        "\n",
        "mobilenet_model.compile(\n",
        "    optimizer=Adam(learning_rate=0.0001),\n",
        "    loss='categorical_crossentropy',\n",
        "    metrics=['accuracy']\n",
        ")\n",
        "\n",
        "mobilenet_model.summary()\n",
        "\n"
      ]
    },
    {
      "cell_type": "code",
      "execution_count": 8,
      "metadata": {
        "id": "bqHhaaKBLoFe",
        "colab": {
          "base_uri": "https://localhost:8080/"
        },
        "outputId": "7b22ed39-95dc-4af8-e3a7-26901ae6a36f"
      },
      "outputs": [
        {
          "output_type": "stream",
          "name": "stderr",
          "text": [
            "/usr/local/lib/python3.12/dist-packages/keras/src/trainers/data_adapters/py_dataset_adapter.py:121: UserWarning: Your `PyDataset` class should call `super().__init__(**kwargs)` in its constructor. `**kwargs` can include `workers`, `use_multiprocessing`, `max_queue_size`. Do not pass these arguments to `fit()`, as they will be ignored.\n",
            "  self._warn_if_super_not_called()\n"
          ]
        },
        {
          "output_type": "stream",
          "name": "stdout",
          "text": [
            "Epoch 1/10\n",
            "\u001b[1m489/489\u001b[0m \u001b[32m━━━━━━━━━━━━━━━━━━━━\u001b[0m\u001b[37m\u001b[0m \u001b[1m6787s\u001b[0m 14s/step - accuracy: 0.3720 - loss: 1.9060 - val_accuracy: 0.7742 - val_loss: 0.8054\n",
            "Epoch 2/10\n",
            "\u001b[1m489/489\u001b[0m \u001b[32m━━━━━━━━━━━━━━━━━━━━\u001b[0m\u001b[37m\u001b[0m \u001b[1m300s\u001b[0m 613ms/step - accuracy: 0.7564 - loss: 0.8006 - val_accuracy: 0.8303 - val_loss: 0.5782\n",
            "Epoch 3/10\n",
            "\u001b[1m489/489\u001b[0m \u001b[32m━━━━━━━━━━━━━━━━━━━━\u001b[0m\u001b[37m\u001b[0m \u001b[1m298s\u001b[0m 610ms/step - accuracy: 0.8095 - loss: 0.6004 - val_accuracy: 0.8483 - val_loss: 0.4829\n",
            "Epoch 4/10\n",
            "\u001b[1m489/489\u001b[0m \u001b[32m━━━━━━━━━━━━━━━━━━━━\u001b[0m\u001b[37m\u001b[0m \u001b[1m295s\u001b[0m 603ms/step - accuracy: 0.8418 - loss: 0.5043 - val_accuracy: 0.8644 - val_loss: 0.4367\n",
            "Epoch 5/10\n",
            "\u001b[1m489/489\u001b[0m \u001b[32m━━━━━━━━━━━━━━━━━━━━\u001b[0m\u001b[37m\u001b[0m \u001b[1m294s\u001b[0m 602ms/step - accuracy: 0.8602 - loss: 0.4481 - val_accuracy: 0.8701 - val_loss: 0.4080\n",
            "Epoch 6/10\n",
            "\u001b[1m489/489\u001b[0m \u001b[32m━━━━━━━━━━━━━━━━━━━━\u001b[0m\u001b[37m\u001b[0m \u001b[1m297s\u001b[0m 607ms/step - accuracy: 0.8665 - loss: 0.4131 - val_accuracy: 0.8783 - val_loss: 0.3863\n",
            "Epoch 7/10\n",
            "\u001b[1m489/489\u001b[0m \u001b[32m━━━━━━━━━━━━━━━━━━━━\u001b[0m\u001b[37m\u001b[0m \u001b[1m321s\u001b[0m 605ms/step - accuracy: 0.8760 - loss: 0.3906 - val_accuracy: 0.8893 - val_loss: 0.3653\n",
            "Epoch 8/10\n",
            "\u001b[1m489/489\u001b[0m \u001b[32m━━━━━━━━━━━━━━━━━━━━\u001b[0m\u001b[37m\u001b[0m \u001b[1m300s\u001b[0m 613ms/step - accuracy: 0.8805 - loss: 0.3714 - val_accuracy: 0.8865 - val_loss: 0.3550\n",
            "Epoch 9/10\n",
            "\u001b[1m489/489\u001b[0m \u001b[32m━━━━━━━━━━━━━━━━━━━━\u001b[0m\u001b[37m\u001b[0m \u001b[1m298s\u001b[0m 610ms/step - accuracy: 0.8864 - loss: 0.3611 - val_accuracy: 0.8901 - val_loss: 0.3350\n",
            "Epoch 10/10\n",
            "\u001b[1m489/489\u001b[0m \u001b[32m━━━━━━━━━━━━━━━━━━━━\u001b[0m\u001b[37m\u001b[0m \u001b[1m301s\u001b[0m 615ms/step - accuracy: 0.8921 - loss: 0.3452 - val_accuracy: 0.8921 - val_loss: 0.3249\n"
          ]
        }
      ],
      "source": [
        "mobilenet_callbacks = [\n",
        "    EarlyStopping(\n",
        "        patience=3,\n",
        "        restore_best_weights=True\n",
        "    ),\n",
        "    ModelCheckpoint(\n",
        "        filepath=\"/content/drive/MyDrive/mobilenet_best.keras\",  # ✅ Save directly to Drive\n",
        "        save_best_only=True,\n",
        "        monitor='val_loss',\n",
        "        mode='min'\n",
        "    )\n",
        "]\n",
        "\n",
        "# 🔹 Train MobileNetV2\n",
        "mobilenet_history = mobilenet_model.fit(\n",
        "    train_generator,\n",
        "    epochs=10,\n",
        "    validation_data=val_generator,\n",
        "    callbacks=mobilenet_callbacks\n",
        ")\n"
      ]
    },
    {
      "cell_type": "code",
      "execution_count": null,
      "metadata": {
        "id": "6NKfoOnwLpSW"
      },
      "outputs": [],
      "source": [
        "\n"
      ]
    },
    {
      "cell_type": "code",
      "execution_count": 9,
      "metadata": {
        "colab": {
          "base_uri": "https://localhost:8080/",
          "height": 391
        },
        "id": "zPKrP1BKLq2T",
        "outputId": "cf36391d-280e-4d33-aa8f-4ddbddfe8fd6"
      },
      "outputs": [
        {
          "output_type": "display_data",
          "data": {
            "text/plain": [
              "<Figure size 1200x400 with 2 Axes>"
            ],
            "image/png": "[encoded data removed]"
          },
          "metadata": {}
        }
      ],
      "source": [
        "# Plot training history\n",
        "def plot_history(history):\n",
        "    plt.figure(figsize=(12,4))\n",
        "    plt.subplot(1,2,1)\n",
        "    plt.plot(history.history['accuracy'], label='Train Acc')\n",
        "    plt.plot(history.history['val_accuracy'], label='Val Acc')\n",
        "    plt.title('Accuracy')\n",
        "    plt.legend()\n",
        "\n",
        "    plt.subplot(1,2,2)\n",
        "    plt.plot(history.history['loss'], label='Train Loss')\n",
        "    plt.plot(history.history['val_loss'], label='Val Loss')\n",
        "    plt.title('Loss')\n",
        "    plt.legend()\n",
        "\n",
        "    plt.show()\n",
        "\n",
        "plot_history(mobilenet_history)"
      ]
    },
    {
      "cell_type": "code",
      "execution_count": null,
      "metadata": {
        "id": "JjdwsLdWwVaj"
      },
      "outputs": [],
      "source": []
    },
    {
      "cell_type": "code",
      "source": [
        "# ---------------- EfficientNetB0 Training (with Fine-tuning) ---------------- #\n",
        "\n",
        "# Function to build EfficientNetB0 model and also return base_model\n",
        "def build_efficientnetb0_model(num_classes, image_size=224):\n",
        "    base_model = EfficientNetB0(\n",
        "        weights='imagenet',\n",
        "        include_top=False,\n",
        "        input_shape=(image_size, image_size, 3)\n",
        "    )\n",
        "    base_model.trainable = False  # Freeze base model initially\n",
        "\n",
        "    inputs = Input(shape=(image_size, image_size, 3))\n",
        "    x = base_model(inputs, training=False)\n",
        "    x = GlobalAveragePooling2D()(x)\n",
        "    x = Dropout(0.3)(x)\n",
        "    outputs = Dense(num_classes, activation='softmax')(x)\n",
        "\n",
        "    model = Model(inputs, outputs, name=\"EfficientNetB0_Classifier\")\n",
        "    return model, base_model   # ✅ return both\n",
        "\n",
        "\n",
        "# Build EfficientNetB0\n",
        "efficientnetb0_model, base_model = build_efficientnetb0_model(\n",
        "    num_classes=train_generator.num_classes,\n",
        "    image_size=image_size\n",
        ")\n",
        "\n",
        "# Compile (warm-up stage)\n",
        "efficientnetb0_model.compile(\n",
        "    optimizer=Adam(learning_rate=1e-4),\n",
        "    loss='categorical_crossentropy',\n",
        "    metrics=['accuracy']\n",
        ")\n",
        "\n",
        "# Callbacks for warm-up\n",
        "efficientnetb0_callbacks_warmup = [\n",
        "    EarlyStopping(patience=3, restore_best_weights=True),\n",
        "    ModelCheckpoint(\n",
        "        filepath=\"efficientnetb0_warmup.keras\",\n",
        "        save_best_only=True,\n",
        "        monitor='val_loss',\n",
        "        mode='min'\n",
        "    )\n",
        "]\n",
        "\n",
        "# 🔹 Stage 1: Warm-up training (only top layers frozen)\n",
        "efficientnetb0_history_warmup = efficientnetb0_model.fit(\n",
        "    train_generator,\n",
        "    epochs=5,\n",
        "    validation_data=val_generator,\n",
        "    callbacks=efficientnetb0_callbacks_warmup\n",
        ")\n",
        "\n",
        "\n",
        "# 🔹 Stage 2: Fine-tuning\n",
        "# Unfreeze some EfficientNetB0 layers (e.g. last 100 layers)\n",
        "for layer in base_model.layers[-100:]:   # ✅ directly use base_model\n",
        "    layer.trainable = True\n",
        "\n",
        "# Re-compile with a smaller learning rate\n",
        "efficientnetb0_model.compile(\n",
        "    optimizer=Adam(learning_rate=1e-5),\n",
        "    loss='categorical_crossentropy',\n",
        "    metrics=['accuracy']\n",
        ")\n",
        "\n",
        "# Callbacks for fine-tuning\n",
        "efficientnetb0_callbacks_finetune = [\n",
        "    EarlyStopping(patience=3, restore_best_weights=True),\n",
        "    ModelCheckpoint(\n",
        "        filepath=\"/content/drive/MyDrive/efficientnetb0_finetuned.keras\",  # ✅ Save to Drive\n",
        "        save_best_only=True,\n",
        "        monitor='val_loss',\n",
        "        mode='min'\n",
        "    )\n",
        "]\n",
        "\n",
        "# Fine-tune training\n",
        "efficientnetb0_history_finetune = efficientnetb0_model.fit(\n",
        "    train_generator,\n",
        "    epochs=10,\n",
        "    validation_data=val_generator,\n",
        "    callbacks=efficientnetb0_callbacks_finetune\n",
        ")\n"
      ],
      "metadata": {
        "colab": {
          "base_uri": "https://localhost:8080/"
        },
        "id": "C66Iz7g4feZI",
        "outputId": "1b8fe2d7-2ef1-40fb-b2ce-2a7bd72ba72f"
      },
      "execution_count": null,
      "outputs": [
        {
          "output_type": "stream",
          "name": "stdout",
          "text": [
            "Epoch 1/5\n",
            "\u001b[1m489/489\u001b[0m \u001b[32m━━━━━━━━━━━━━━━━━━━━\u001b[0m\u001b[37m\u001b[0m \u001b[1m346s\u001b[0m 664ms/step - accuracy: 0.2627 - loss: 2.1586 - val_accuracy: 0.2745 - val_loss: 2.1219\n",
            "Epoch 2/5\n",
            "\u001b[1m489/489\u001b[0m \u001b[32m━━━━━━━━━━━━━━━━━━━━\u001b[0m\u001b[37m\u001b[0m \u001b[1m307s\u001b[0m 628ms/step - accuracy: 0.2714 - loss: 2.1368 - val_accuracy: 0.2745 - val_loss: 2.1234\n",
            "Epoch 3/5\n",
            "\u001b[1m489/489\u001b[0m \u001b[32m━━━━━━━━━━━━━━━━━━━━\u001b[0m\u001b[37m\u001b[0m \u001b[1m305s\u001b[0m 624ms/step - accuracy: 0.2679 - loss: 2.1425 - val_accuracy: 0.2745 - val_loss: 2.1218\n",
            "Epoch 4/5\n",
            "\u001b[1m489/489\u001b[0m \u001b[32m━━━━━━━━━━━━━━━━━━━━\u001b[0m\u001b[37m\u001b[0m \u001b[1m305s\u001b[0m 623ms/step - accuracy: 0.2693 - loss: 2.1458 - val_accuracy: 0.2745 - val_loss: 2.1224\n",
            "Epoch 5/5\n",
            "\u001b[1m489/489\u001b[0m \u001b[32m━━━━━━━━━━━━━━━━━━━━\u001b[0m\u001b[37m\u001b[0m \u001b[1m305s\u001b[0m 625ms/step - accuracy: 0.2672 - loss: 2.1466 - val_accuracy: 0.2745 - val_loss: 2.1225\n",
            "Epoch 1/10\n",
            "\u001b[1m489/489\u001b[0m \u001b[32m━━━━━━━━━━━━━━━━━━━━\u001b[0m\u001b[37m\u001b[0m \u001b[1m384s\u001b[0m 701ms/step - accuracy: 0.1639 - loss: 2.3140 - val_accuracy: 0.1753 - val_loss: 2.2058\n",
            "Epoch 2/10\n",
            "\u001b[1m489/489\u001b[0m \u001b[32m━━━━━━━━━━━━━━━━━━━━\u001b[0m\u001b[37m\u001b[0m \u001b[1m309s\u001b[0m 632ms/step - accuracy: 0.3029 - loss: 2.0433 - val_accuracy: 0.1907 - val_loss: 2.2405\n",
            "Epoch 3/10\n",
            "\u001b[1m489/489\u001b[0m \u001b[32m━━━━━━━━━━━━━━━━━━━━\u001b[0m\u001b[37m\u001b[0m \u001b[1m331s\u001b[0m 677ms/step - accuracy: 0.3239 - loss: 1.9706 - val_accuracy: 0.1989 - val_loss: 2.2031\n",
            "Epoch 4/10\n",
            "\u001b[1m489/489\u001b[0m \u001b[32m━━━━━━━━━━━━━━━━━━━━\u001b[0m\u001b[37m\u001b[0m \u001b[1m330s\u001b[0m 674ms/step - accuracy: 0.3387 - loss: 1.9188 - val_accuracy: 0.2017 - val_loss: 2.2999\n",
            "Epoch 5/10\n",
            "\u001b[1m489/489\u001b[0m \u001b[32m━━━━━━━━━━━━━━━━━━━━\u001b[0m\u001b[37m\u001b[0m \u001b[1m307s\u001b[0m 629ms/step - accuracy: 0.3583 - loss: 1.8653 - val_accuracy: 0.2442 - val_loss: 2.1604\n",
            "Epoch 6/10\n",
            "\u001b[1m489/489\u001b[0m \u001b[32m━━━━━━━━━━━━━━━━━━━━\u001b[0m\u001b[37m\u001b[0m \u001b[1m307s\u001b[0m 628ms/step - accuracy: 0.3735 - loss: 1.8264 - val_accuracy: 0.2473 - val_loss: 2.1518\n",
            "Epoch 7/10\n",
            "\u001b[1m489/489\u001b[0m \u001b[32m━━━━━━━━━━━━━━━━━━━━\u001b[0m\u001b[37m\u001b[0m \u001b[1m313s\u001b[0m 641ms/step - accuracy: 0.3732 - loss: 1.8050 - val_accuracy: 0.2437 - val_loss: 2.3762\n",
            "Epoch 8/10\n",
            "\u001b[1m489/489\u001b[0m \u001b[32m━━━━━━━━━━━━━━━━━━━━\u001b[0m\u001b[37m\u001b[0m \u001b[1m310s\u001b[0m 634ms/step - accuracy: 0.3996 - loss: 1.7618 - val_accuracy: 0.2506 - val_loss: 2.0160\n",
            "Epoch 9/10\n",
            "\u001b[1m489/489\u001b[0m \u001b[32m━━━━━━━━━━━━━━━━━━━━\u001b[0m\u001b[37m\u001b[0m \u001b[1m316s\u001b[0m 647ms/step - accuracy: 0.4042 - loss: 1.7315 - val_accuracy: 0.2437 - val_loss: 2.0850\n",
            "Epoch 10/10\n",
            "\u001b[1m388/489\u001b[0m \u001b[32m━━━━━━━━━━━━━━━\u001b[0m\u001b[37m━━━━━\u001b[0m \u001b[1m51s\u001b[0m 512ms/step - accuracy: 0.4152 - loss: 1.6982"
          ]
        }
      ]
    },
    {
      "cell_type": "code",
      "source": [
        "from sklearn.metrics import classification_report, confusion_matrix, precision_score, recall_score, f1_score, accuracy_score\n",
        "\n",
        "# ---------------- MobileNetV2 Evaluation ---------------- #\n",
        "y_true = val_generator.classes\n",
        "y_pred_mn_probs = mobilenet_model.predict(val_generator)\n",
        "y_pred_mn = np.argmax(y_pred_mn_probs, axis=1)\n",
        "\n",
        "acc_mn = accuracy_score(y_true, y_pred_mn)\n",
        "prec_mn = precision_score(y_true, y_pred_mn, average='weighted')\n",
        "rec_mn = recall_score(y_true, y_pred_mn, average='weighted')\n",
        "f1_mn = f1_score(y_true, y_pred_mn, average='weighted')\n",
        "\n",
        "print(\"\\n📌 MobileNetV2 Performance\")\n",
        "print(f\"Accuracy: {acc_mn:.4f}\")\n",
        "print(f\"Precision: {prec_mn:.4f}\")\n",
        "print(f\"Recall: {rec_mn:.4f}\")\n",
        "print(f\"F1-Score: {f1_mn:.4f}\")\n",
        "print(\"\\nClassification Report (MobileNetV2):\")\n",
        "print(classification_report(y_true, y_pred_mn))\n",
        "\n",
        "\n",
        "# ---------------- EfficientNetB0 Evaluation ---------------- #\n",
        "y_pred_en_probs = efficientnetb0_model.predict(val_generator)\n",
        "y_pred_en = np.argmax(y_pred_en_probs, axis=1)\n",
        "\n",
        "acc_en = accuracy_score(y_true, y_pred_en)\n",
        "prec_en = precision_score(y_true, y_pred_en, average='weighted')\n",
        "rec_en = recall_score(y_true, y_pred_en, average='weighted')\n",
        "f1_en = f1_score(y_true, y_pred_en, average='weighted')\n",
        "\n",
        "print(\"\\n📌 EfficientNetB0 Performance\")\n",
        "print(f\"Accuracy: {acc_en:.4f}\")\n",
        "print(f\"Precision: {prec_en:.4f}\")\n",
        "print(f\"Recall: {rec_en:.4f}\")\n",
        "print(f\"F1-Score: {f1_en:.4f}\")\n",
        "print(\"\\nClassification Report (EfficientNetB0):\")\n",
        "print(classification_report(y_true, y_pred_en))\n"
      ],
      "metadata": {
        "colab": {
          "base_uri": "https://localhost:8080/"
        },
        "id": "brU9eaJmJdZa",
        "outputId": "50107055-c39e-4dd8-8369-37b150a85b9d"
      },
      "execution_count": 12,
      "outputs": [
        {
          "metadata": {
            "tags": null
          },
          "name": "stdout",
          "output_type": "stream",
          "text": [
            "\u001b[1m122/122\u001b[0m \u001b[32m━━━━━━━━━━━━━━━━━━━━\u001b[0m\u001b[37m\u001b[0m \u001b[1m69s\u001b[0m 527ms/step\n",
            "\n",
            "📌 MobileNetV2 Performance\n",
            "Accuracy: 0.1453\n",
            "Precision: 0.1438\n",
            "Recall: 0.1453\n",
            "F1-Score: 0.1445\n",
            "\n",
            "Classification Report (MobileNetV2):\n",
            "              precision    recall  f1-score   support\n",
            "\n",
            "           0       0.03      0.04      0.04       188\n",
            "           1       0.04      0.03      0.04       201\n",
            "           2       0.09      0.09      0.09       302\n",
            "           3       0.28      0.28      0.28      1071\n",
            "           4       0.16      0.17      0.16       614\n",
            "           5       0.04      0.03      0.03       204\n",
            "           6       0.11      0.11      0.11       338\n",
            "           7       0.10      0.09      0.09       396\n",
            "           8       0.09      0.09      0.09       397\n",
            "           9       0.03      0.03      0.03       191\n",
            "\n",
            "    accuracy                           0.15      3902\n",
            "   macro avg       0.10      0.10      0.10      3902\n",
            "weighted avg       0.14      0.15      0.14      3902\n",
            "\n",
            "\u001b[1m122/122\u001b[0m \u001b[32m━━━━━━━━━━━━━━━━━━━━\u001b[0m\u001b[37m\u001b[0m \u001b[1m74s\u001b[0m 546ms/step\n",
            "\n",
            "📌 EfficientNetB0 Performance\n",
            "Accuracy: 0.1151\n",
            "Precision: 0.1399\n",
            "Recall: 0.1151\n",
            "F1-Score: 0.0839\n",
            "\n",
            "Classification Report (EfficientNetB0):\n",
            "              precision    recall  f1-score   support\n",
            "\n",
            "           0       0.07      0.03      0.04       188\n",
            "           1       0.00      0.00      0.00       201\n",
            "           2       0.08      0.04      0.05       302\n",
            "           3       0.28      0.06      0.10      1071\n",
            "           4       0.16      0.10      0.12       614\n",
            "           5       0.00      0.00      0.00       204\n",
            "           6       0.05      0.01      0.01       338\n",
            "           7       0.10      0.64      0.17       396\n",
            "           8       0.11      0.12      0.11       397\n",
            "           9       0.11      0.01      0.02       191\n",
            "\n",
            "    accuracy                           0.12      3902\n",
            "   macro avg       0.09      0.10      0.06      3902\n",
            "weighted avg       0.14      0.12      0.08      3902\n",
            "\n"
          ]
        }
      ]
    },
    {
      "cell_type": "code",
      "source": [
        "%%writefile garbageimage.py\n",
        "import streamlit as st\n",
        "import matplotlib.pyplot as plt\n",
        "import seaborn as sns\n",
        "import numpy as np\n",
        "import pandas as pd\n",
        "from tensorflow.keras.models import load_model\n",
        "from tensorflow.keras.preprocessing.image import img_to_array\n",
        "\n",
        "from PIL import Image\n",
        "\n",
        "# ✅ Page config\n",
        "st.set_page_config(page_title=\"Garbage Image Classification using Computer Vision\", layout=\"wide\")\n",
        "\n",
        "# Sidebar navigation\n",
        "st.sidebar.title(\"Navigation\")\n",
        "page = st.sidebar.radio(\"Go to\", [\"Introduction\", \"Data Overview\", \"Model Insights\", \"Classification\"])\n",
        "\n",
        "# Introduction page\n",
        "if page == \"Introduction\":\n",
        "    st.title(\"Garbage Image Classification using Computer Vision\")\n",
        "    st.write(\"\"\"\n",
        "    Welcome to the **Garbage Image Classification App**! 🌍♻️\n",
        "\n",
        "    Waste management is a global challenge, and separating garbage into the correct categories is\n",
        "    essential for recycling and sustainable living.\n",
        "\n",
        "    This project leverages **deep learning** and **computer vision** to classify garbage images into\n",
        "    multiple categories such as paper, plastic, glass, metal, and more.\n",
        "\n",
        "    Using a trained **MobileNetV2 model**, this app can predict the type of waste from an uploaded image.\n",
        "    \"\"\")\n",
        "\n",
        "elif page == \"Data Overview\":\n",
        "    st.title(\"Data Overview\")\n",
        "    st.write(\"\"\"\n",
        "    The dataset used in this project consists of **10 categories of garbage images**:\n",
        "\n",
        "    - Battery\n",
        "    - Biological\n",
        "    - Cardboard\n",
        "    - Clothes\n",
        "    - Glass\n",
        "    - Metal\n",
        "    - Paper\n",
        "    - Plastic\n",
        "    - Shoes\n",
        "    - Trash\n",
        "\n",
        "    Each class contains hundreds of images, allowing the model to learn unique features of\n",
        "    different waste types.\n",
        "\n",
        "    The dataset is divided into:\n",
        "    - **Training set (80%)** for model learning\n",
        "    - **Validation set (20%)** for evaluating performance during training\n",
        "    \"\"\")\n",
        "\n",
        "\n",
        "elif page == \"Model Insights\":\n",
        "    st.title(\"Model Insights & Working\")\n",
        "\n",
        "    st.write(\"\"\"\n",
        "    This page explains **how the Garbage Image Classification model works** and provides some\n",
        "    insights into its performance.\n",
        "\n",
        "    **1. Model Architecture:**\n",
        "    - We use a **MobileNetV2** model pre-trained on ImageNet as the backbone.\n",
        "    - The top layers are replaced with:\n",
        "        - Global Average Pooling\n",
        "        - Dense layer with ReLU activation\n",
        "        - Dropout layer for regularization\n",
        "        - Final Dense layer with Softmax activation for 10 garbage classes\n",
        "\n",
        "    **2️. Training Strategy:**\n",
        "    - Data Augmentation: rotation, horizontal flips, zoom, and rescaling.\n",
        "    - Training/Validation split: 80%/20%.\n",
        "    - Optimizer: Adam with a learning rate scheduler (optional for better convergence).\n",
        "    - EarlyStopping and ModelCheckpoint to prevent overfitting and save the best model.\n",
        "\n",
        "    **3. Model Performance:**\n",
        "    - Accuracy, Precision, Recall, and F1-Score are evaluated on the validation set.\n",
        "    - Confusion matrix can help visualize which classes the model confuses the most.\n",
        "\n",
        "    **4. Future Improvements:**\n",
        "    - Use **EfficientNetB3 or B4** for higher accuracy.\n",
        "    - Increase input image size (260-300px).\n",
        "    - Fine-tune more layers of the pre-trained backbone.\n",
        "    - Apply advanced augmentations like cutout, mixup, or random brightness/contrast.\n",
        "\n",
        "    **5. Social Impact:**\n",
        "    - Automated garbage classification can help improve recycling efficiency, reduce landfill waste,\n",
        "      and promote sustainable waste management. 🌱\n",
        "    \"\"\")\n",
        "\n",
        "    st.subheader(\"Confusion Matrix Example\")\n",
        "    st.write(\"\"\"\n",
        "    You can generate a **confusion matrix** to see which garbage classes are being misclassified\n",
        "    most often. This is a key tool in understanding model behavior.\n",
        "    \"\"\")\n",
        "\n",
        "\n",
        "elif page == \"Classification\":\n",
        "    st.title(\"Garbage Image Classification\")\n",
        "\n",
        "    st.write(\"\"\"\n",
        "    Upload an image of garbage, and the trained model will predict its class.\n",
        "\n",
        "    Steps:\n",
        "    1. Upload an image in JPG or PNG format.\n",
        "    2. The image is preprocessed (resized to 224x224, normalized).\n",
        "    3. The MobileNetV2 model predicts the **most likely garbage category**.\n",
        "\n",
        "    ✅ This tool can assist in **automatic waste sorting**, promoting recycling and sustainability.\n",
        "    \"\"\")\n",
        "\n",
        "    # Load trained model\n",
        "    try:\n",
        "        model = load_model(\"/content/drive/MyDrive/mobilenet_best.keras\")\n",
        "    except Exception as e:\n",
        "        st.error(f\"❌ Could not load model: {e}\")\n",
        "        st.stop()\n",
        "\n",
        "    class_names = [\n",
        "    \"battery\", \"biological\", \"cardboard\", \"clothes\", \"glass\",\n",
        "    \"metal\", \"paper\", \"plastic\", \"shoes\", \"trash\"]\n",
        "\n",
        "\n",
        "    # Upload image for classification\n",
        "    uploaded_file = st.file_uploader(\"Choose an image\", type=[\"jpg\", \"jpeg\", \"png\"])\n",
        "    if uploaded_file is not None:\n",
        "        image = Image.open(uploaded_file).convert(\"RGB\")\n",
        "        st.image(image, caption=\"Uploaded Image\", use_column_width=True)\n",
        "\n",
        "        # Preprocessing\n",
        "        image_size = 224\n",
        "        img = image.resize((image_size, image_size))\n",
        "        img_array = img_to_array(img) / 255.0\n",
        "        img_array = np.expand_dims(img_array, axis=0)\n",
        "\n",
        "        # Prediction\n",
        "        prediction = model.predict(img_array)\n",
        "        predicted_class_idx = np.argmax(prediction, axis=1)[0]\n",
        "        predicted_class_name = class_names[predicted_class_idx]\n",
        "\n",
        "        st.success(f\"✅ Predicted Class: {predicted_class_name}\")\n",
        "\n",
        "\n"
      ],
      "metadata": {
        "colab": {
          "base_uri": "https://localhost:8080/"
        },
        "id": "rc47DkSZACpT",
        "outputId": "3035b72d-dbd0-4a03-8dc7-9d722e0609cf"
      },
      "execution_count": 35,
      "outputs": [
        {
          "output_type": "stream",
          "name": "stdout",
          "text": [
            "Overwriting garbageimage.py\n"
          ]
        }
      ]
    },
    {
      "cell_type": "code",
      "source": [
        "!streamlit run garbageimage.py"
      ],
      "metadata": {
        "colab": {
          "base_uri": "https://localhost:8080/"
        },
        "id": "MR6-MO66oZgl",
        "outputId": "7dcbceb8-14d3-405c-e65a-e9fd6e9f23bf"
      },
      "execution_count": 36,
      "outputs": [
        {
          "output_type": "stream",
          "name": "stdout",
          "text": [
            "\n",
            "Collecting usage statistics. To deactivate, set browser.gatherUsageStats to false.\n",
            "\u001b[0m\n",
            "\u001b[0m\n",
            "\u001b[34m\u001b[1m  You can now view your Streamlit app in your browser.\u001b[0m\n",
            "\u001b[0m\n",
            "\u001b[34m  Local URL: \u001b[0m\u001b[1mhttp://localhost:8505\u001b[0m\n",
            "\u001b[34m  Network URL: \u001b[0m\u001b[1mhttp://172.28.0.12:8505\u001b[0m\n",
            "\u001b[34m  External URL: \u001b[0m\u001b[1mhttp://34.16.183.72:8505\u001b[0m\n",
            "\u001b[0m\n",
            "\u001b[34m  Stopping...\u001b[0m\n"
          ]
        }
      ]
    },
    {
      "cell_type": "code",
      "source": [
        "!streamlit run garbageimage.py &>/dev/null&"
      ],
      "metadata": {
        "id": "V9Z5Jy4woKG7"
      },
      "execution_count": 37,
      "outputs": []
    },
    {
      "cell_type": "code",
      "source": [
        "!pip install streamlit pyngrok -q\n"
      ],
      "metadata": {
        "colab": {
          "base_uri": "https://localhost:8080/"
        },
        "id": "r0q2UHGlqui1",
        "outputId": "7a388eed-82d6-4ed1-b68f-4b475fa103d0"
      },
      "execution_count": 14,
      "outputs": [
        {
          "output_type": "stream",
          "name": "stdout",
          "text": [
            "\u001b[?25l   \u001b[90m━━━━━━━━━━━━━━━━━━━━━━━━━━━━━━━━━━━━━━━━\u001b[0m \u001b[32m0.0/10.0 MB\u001b[0m \u001b[31m?\u001b[0m eta \u001b[36m-:--:--\u001b[0m\r\u001b[2K   \u001b[91m━━━━━━━━\u001b[0m\u001b[91m╸\u001b[0m\u001b[90m━━━━━━━━━━━━━━━━━━━━━━━━━━━━━━━\u001b[0m \u001b[32m2.2/10.0 MB\u001b[0m \u001b[31m64.0 MB/s\u001b[0m eta \u001b[36m0:00:01\u001b[0m\r\u001b[2K   \u001b[91m━━━━━━━━━━━━━━━━━━━━━━━━━━━━━━━━\u001b[0m\u001b[91m╸\u001b[0m\u001b[90m━━━━━━━\u001b[0m \u001b[32m8.2/10.0 MB\u001b[0m \u001b[31m119.6 MB/s\u001b[0m eta \u001b[36m0:00:01\u001b[0m\r\u001b[2K   \u001b[91m━━━━━━━━━━━━━━━━━━━━━━━━━━━━━━━━━━━━━━━\u001b[0m\u001b[91m╸\u001b[0m \u001b[32m10.0/10.0 MB\u001b[0m \u001b[31m126.6 MB/s\u001b[0m eta \u001b[36m0:00:01\u001b[0m\r\u001b[2K   \u001b[90m━━━━━━━━━━━━━━━━━━━━━━━━━━━━━━━━━━━━━━━━\u001b[0m \u001b[32m10.0/10.0 MB\u001b[0m \u001b[31m87.8 MB/s\u001b[0m eta \u001b[36m0:00:00\u001b[0m\n",
            "\u001b[?25h\u001b[?25l   \u001b[90m━━━━━━━━━━━━━━━━━━━━━━━━━━━━━━━━━━━━━━━━\u001b[0m \u001b[32m0.0/6.9 MB\u001b[0m \u001b[31m?\u001b[0m eta \u001b[36m-:--:--\u001b[0m\r\u001b[2K   \u001b[91m━━━━━━━━━━━━━━━━━━━━━━━━━━━━━━━━━━━━━━━\u001b[0m\u001b[91m╸\u001b[0m \u001b[32m6.9/6.9 MB\u001b[0m \u001b[31m192.7 MB/s\u001b[0m eta \u001b[36m0:00:01\u001b[0m\r\u001b[2K   \u001b[90m━━━━━━━━━━━━━━━━━━━━━━━━━━━━━━━━━━━━━━━━\u001b[0m \u001b[32m6.9/6.9 MB\u001b[0m \u001b[31m108.9 MB/s\u001b[0m eta \u001b[36m0:00:00\u001b[0m\n",
            "\u001b[?25h"
          ]
        }
      ]
    },
    {
      "cell_type": "code",
      "source": [
        "!which streamlit\n"
      ],
      "metadata": {
        "colab": {
          "base_uri": "https://localhost:8080/"
        },
        "id": "vw8z1U6WqyfB",
        "outputId": "3ad16e04-5daf-4fe7-bb60-19c0c76d5c1a"
      },
      "execution_count": 18,
      "outputs": [
        {
          "output_type": "stream",
          "name": "stdout",
          "text": [
            "/usr/local/bin/streamlit\n"
          ]
        }
      ]
    },
    {
      "cell_type": "code",
      "source": [
        "!streamlit run garbageimage.py --server.port 8501\n"
      ],
      "metadata": {
        "colab": {
          "base_uri": "https://localhost:8080/"
        },
        "id": "FShVR_09qlp-",
        "outputId": "26d4bfd6-9518-4690-d111-e2f54e1931fb"
      },
      "execution_count": 38,
      "outputs": [
        {
          "output_type": "stream",
          "name": "stdout",
          "text": [
            "\n",
            "Collecting usage statistics. To deactivate, set browser.gatherUsageStats to false.\n",
            "\u001b[0m\n",
            "2025-09-21 15:18:50.122 Port 8501 is already in use\n"
          ]
        }
      ]
    },
    {
      "cell_type": "code",
      "source": [],
      "metadata": {
        "id": "Q-2CY_h1ql6K"
      },
      "execution_count": null,
      "outputs": []
    },
    {
      "cell_type": "code",
      "source": [
        "!pip install pyngrok -q\n",
        "from pyngrok import ngrok\n",
        "from google.colab import userdata\n",
        "\n",
        "# Terminate open tunnels if any\n",
        "ngrok.kill()\n",
        "\n",
        "# Get a ngrok authtoken from https://dashboard.ngrok.com/auth\n",
        "# and paste it in the secrets tab on the left sidebar.\n",
        "# Then uncomment the following line:\n",
        "NGrok_Auth = userdata.get('NGROK_AUTH_TOKEN')\n",
        "ngrok.set_auth_token(NGrok_Auth)\n",
        "\n",
        "# Open a tunnel to the port where Streamlit is running\n",
        "public_url = ngrok.connect(8501)\n",
        "print(f\"Streamlit App URL: {public_url}\")"
      ],
      "metadata": {
        "colab": {
          "base_uri": "https://localhost:8080/"
        },
        "id": "iV93IvchAF-M",
        "outputId": "62228b64-419c-45e8-8419-0a42f03b5268"
      },
      "execution_count": 39,
      "outputs": [
        {
          "output_type": "stream",
          "name": "stdout",
          "text": [
            "Streamlit App URL: NgrokTunnel: \"https://30c8e3d2e1cd.ngrok-free.app\" -> \"http://localhost:8501\"\n"
          ]
        }
      ]
    },
    {
      "cell_type": "code",
      "source": [],
      "metadata": {
        "id": "afZ4sE6opXf2"
      },
      "execution_count": null,
      "outputs": []
    },
    {
      "cell_type": "code",
      "source": [],
      "metadata": {
        "id": "sDEyDSd7oNFA"
      },
      "execution_count": null,
      "outputs": []
    }
  ],
  "metadata": {
    "accelerator": "GPU",
    "colab": {
      "gpuType": "T4",
      "provenance": []
    },
    "kernelspec": {
      "display_name": "Python 3",
      "name": "python3"
    },
    "language_info": {
      "name": "python"
    }
  },
  "nbformat": 4,
  "nbformat_minor": 0
}